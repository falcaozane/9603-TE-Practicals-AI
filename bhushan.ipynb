{
  "nbformat": 4,
  "nbformat_minor": 0,
  "metadata": {
    "colab": {
      "provenance": []
    },
    "kernelspec": {
      "name": "python3",
      "display_name": "Python 3"
    },
    "language_info": {
      "name": "python"
    }
  },
  "cells": [
    {
      "cell_type": "code",
      "execution_count": 4,
      "metadata": {
        "colab": {
          "base_uri": "https://localhost:8080/"
        },
        "id": "zfQEKdXhy-xg",
        "outputId": "792a5540-d929-40b6-912f-bcb1d9ed4afc"
      },
      "outputs": [
        {
          "output_type": "stream",
          "name": "stdout",
          "text": [
            "[[1, 2, 3], [4, 5, 6], [7, 8, 0]]\n"
          ]
        }
      ],
      "source": [
        "import heapq\n",
        "\n",
        "def manhattan_distance(state):\n",
        "    distance = 0\n",
        "    for i in range(3):\n",
        "        for j in range(3):\n",
        "            if state[i][j] != 0:\n",
        "                distance += abs(i - (state[i][j] - 1) // 3) + abs(j - (state[i][j] - 1) % 3)\n",
        "    return distance\n",
        "\n",
        "def solve_puzzle(start_state):\n",
        "    goal_state = [[1, 2, 3], [4, 5, 6], [7, 8, 0]]\n",
        "    visited_states = set()\n",
        "    heap = [(manhattan_distance(start_state), start_state)]\n",
        "    heapq.heapify(heap)\n",
        "    while heap:\n",
        "        _, current_state = heapq.heappop(heap)\n",
        "        if current_state == goal_state:\n",
        "            return current_state\n",
        "        visited_states.add(tuple(map(tuple, current_state)))\n",
        "        for move in get_possible_moves(current_state):\n",
        "            new_state = apply_move(current_state, move)\n",
        "            if tuple(map(tuple, new_state)) not in visited_states:\n",
        "                heapq.heappush(heap, (manhattan_distance(new_state), new_state))\n",
        "    return None\n",
        "\n",
        "def get_possible_moves(state):\n",
        "    moves = []\n",
        "    i, j = get_blank_position(state)\n",
        "    if i > 0:\n",
        "        moves.append((i - 1, j))\n",
        "    if i < 2:\n",
        "        moves.append((i + 1, j))\n",
        "    if j > 0:\n",
        "        moves.append((i, j - 1))\n",
        "    if j < 2:\n",
        "        moves.append((i, j + 1))\n",
        "    return moves\n",
        "\n",
        "def get_blank_position(state):\n",
        "    for i in range(3):\n",
        "        for j in range(3):\n",
        "            if state[i][j] == 0:\n",
        "                return i, j\n",
        "    return None\n",
        "\n",
        "def apply_move(state, move):\n",
        "    i, j = get_blank_position(state)\n",
        "    new_i, new_j = move\n",
        "    new_state = [row[:] for row in state]\n",
        "    new_state[i][j], new_state[new_i][new_j] = new_state[new_i][new_j], new_state[i][j]\n",
        "    return new_state\n",
        "\n",
        "# Example usage\n",
        "start_state = [[1, 2, 3], [0, 4, 6], [7, 5, 8]]\n",
        "solution = solve_puzzle(start_state)\n",
        "print(solution)\n"
      ]
    }
  ]
}