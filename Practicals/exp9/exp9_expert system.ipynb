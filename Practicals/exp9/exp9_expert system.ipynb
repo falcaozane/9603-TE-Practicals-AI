{
  "nbformat": 4,
  "nbformat_minor": 0,
  "metadata": {
    "colab": {
      "provenance": []
    },
    "kernelspec": {
      "name": "python3",
      "display_name": "Python 3"
    },
    "language_info": {
      "name": "python"
    }
  },
  "cells": [
    {
      "cell_type": "code",
      "execution_count": null,
      "metadata": {
        "colab": {
          "base_uri": "https://localhost:8080/"
        },
        "id": "yAnwzNWUJ7_9",
        "outputId": "c9884217-1c06-4e01-a35b-9ec81e9abbec"
      },
      "outputs": [
        {
          "output_type": "stream",
          "name": "stdout",
          "text": [
            "Enter your symptoms (comma-separated): cough,fever,fatigue\n",
            "\n",
            "Diagnosis:\n",
            "- flu (49.5% chance)\n",
            "- bronchitis (22.0% chance)\n",
            "- pneumonia (20.2% chance)\n",
            "- asthma (8.3% chance)\n"
          ]
        }
      ],
      "source": [
        "import re\n",
        "# Define expert system rules\n",
        "rules = {\n",
        "    'cough': {\n",
        "        'bronchitis': 0.8,\n",
        "        'pneumonia': 0.7,\n",
        "        'asthma': 0.4\n",
        "    },\n",
        "    'fever': {\n",
        "        'flu': 0.9,\n",
        "        'pneumonia': 0.7,\n",
        "        'bronchitis': 0.4\n",
        "    },\n",
        "    'fatigue': {\n",
        "        'flu': 0.8,\n",
        "        'pneumonia': 0.6,\n",
        "        'asthma': 0.3\n",
        "    },\n",
        "    'shortness of breath': {\n",
        "        'pneumonia': 0.9,\n",
        "        'asthma': 0.6,\n",
        "        'bronchitis': 0.3\n",
        "    }\n",
        "}\n",
        "\n",
        "# Define function to prompt user for symptoms and return diagnosis\n",
        "def diagnose():\n",
        "    # Prompt user for symptoms\n",
        "    symptoms = input('Enter your symptoms (comma-separated): ').split(',')\n",
        "    \n",
        "    # Initialize diagnosis dictionary\n",
        "    diagnosis = {}\n",
        "    \n",
        "    # Iterate through rules to infer diagnosis\n",
        "    for symptom in symptoms:\n",
        "        if symptom in rules:\n",
        "            for condition, score in rules[symptom].items():\n",
        "                if condition not in diagnosis:\n",
        "                    diagnosis[condition] = score\n",
        "                else:\n",
        "                    diagnosis[condition] *= score\n",
        "    \n",
        "    # Normalize scores and sort by descending score\n",
        "    total = sum(diagnosis.values())\n",
        "    diagnosis = {condition: score/total for condition, score in diagnosis.items()}\n",
        "    diagnosis = sorted(diagnosis.items(), key=lambda x: x[1], reverse=True)\n",
        "    \n",
        "    # Print diagnosis\n",
        "    print('\\nDiagnosis:')\n",
        "    for condition, score in diagnosis:\n",
        "        print('- {} ({:.1%} chance)'.format(condition, score))\n",
        "\n",
        "# Run expert system\n",
        "diagnose()"
      ]
    },
    {
      "cell_type": "markdown",
      "source": [
        "The above code is an implementation of a simple expert system in Python. It consists of a set of rules and a knowledge base that contains information about the domain.\n",
        "\n",
        "The knowledge base is represented as a dictionary, where the keys are the names of the facts and the values are Boolean values indicating whether the fact is true or false.\n",
        "\n",
        "The rules are represented as a list of tuples. Each tuple contains two elements: the first element is a list of antecedents or conditions that must be true for the rule to be applicable, and the second element is the consequent or conclusion that follows if the antecedents are true.\n",
        "\n",
        "The expert system uses a forward chaining inference mechanism to derive new conclusions based on the current state of the knowledge base. It iterates over the list of rules, checking whether the antecedents of each rule are true. If they are, it adds the consequent of the rule to the knowledge base. This process continues until no new conclusions can be derived.\n",
        "\n",
        "In the main function, the expert system is initialized with a set of initial facts and a list of rules. It then calls the infer function to derive new conclusions based on the initial facts and the rules. Finally, it prints out the updated knowledge base.\n",
        "\n",
        "This implementation is a simplified example of an expert system and can be extended to handle more complex domains and inference mechanisms."
      ],
      "metadata": {
        "id": "WT3UAoh2SfnL"
      }
    }
  ]
}