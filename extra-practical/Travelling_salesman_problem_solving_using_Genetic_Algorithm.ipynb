{
  "cells": [
    {
      "cell_type": "code",
      "execution_count": null,
      "metadata": {
        "colab": {
          "base_uri": "https://localhost:8080/"
        },
        "id": "21P6ekS83DQC",
        "outputId": "acd0947c-cee9-4e8c-a4bb-50657c5dbd0c"
      },
      "outputs": [
        {
          "name": "stdout",
          "output_type": "stream",
          "text": [
            "Best path found: [13, 16, 19, 15, 10, 7, 3, 6, 1, 5, 9, 12, 11, 18, 8, 4, 0, 2, 14, 17]\n",
            "Distance of best path: 1138.820743580615\n"
          ]
        }
      ],
      "source": [
        "import random\n",
        "import numpy as np\n",
        "\n",
        "# Set random seed for reproducibility\n",
        "random.seed(42)\n",
        "\n",
        "# Define cities and their coordinates\n",
        "cities = np.array([\n",
        "    [60, 200], [180, 200], [80, 180], [140, 180], [20, 160],\n",
        "    [100, 160], [200, 160], [140, 140], [40, 120], [100, 120],\n",
        "    [180, 100], [60, 80], [120, 80], [180, 60], [20, 40], [100, 40],\n",
        "    [200, 40], [20, 20], [60, 20], [160, 20]\n",
        "])\n",
        "\n",
        "# Define genetic algorithm parameters\n",
        "population_size = 100\n",
        "num_generations = 1000\n",
        "mutation_rate = 0.02\n",
        "\n",
        "# Define fitness function\n",
        "def calculate_fitness(individual, cities):\n",
        "    total_distance = 0\n",
        "    for i in range(len(individual) - 1):\n",
        "        city_a = individual[i]\n",
        "        city_b = individual[i+1]\n",
        "        total_distance += np.linalg.norm(cities[city_a] - cities[city_b])\n",
        "    return 1 / total_distance\n",
        "\n",
        "# Define selection function\n",
        "def selection(population):\n",
        "    fitness_values = np.array([calculate_fitness(individual, cities) for individual in population])\n",
        "    total_fitness = np.sum(fitness_values)\n",
        "    probabilities = fitness_values / total_fitness\n",
        "    selected_indices = np.random.choice(range(population_size), size=population_size, p=probabilities)\n",
        "    return [population[index] for index in selected_indices]\n",
        "\n",
        "# Define crossover function\n",
        "def crossover(parent_a, parent_b):\n",
        "    crossover_point = random.randint(1, len(parent_a) - 1)\n",
        "    child_a = parent_a[:crossover_point] + [city for city in parent_b if city not in parent_a[:crossover_point]]\n",
        "    child_b = parent_b[:crossover_point] + [city for city in parent_a if city not in parent_b[:crossover_point]]\n",
        "    return child_a, child_b\n",
        "\n",
        "# Define mutation function\n",
        "def mutation(individual):\n",
        "    if random.random() < mutation_rate:\n",
        "        index_a = random.randint(0, len(individual) - 1)\n",
        "        index_b = random.randint(0, len(individual) - 1)\n",
        "        individual[index_a], individual[index_b] = individual[index_b], individual[index_a]\n",
        "    return individual\n",
        "\n",
        "# Generate initial population\n",
        "population = [random.sample(range(len(cities)), len(cities)) for i in range(population_size)]\n",
        "\n",
        "# Main genetic algorithm loop\n",
        "for generation in range(num_generations):\n",
        "    population = selection(population)\n",
        "    offspring = []\n",
        "    for i in range(int(population_size / 2)):\n",
        "        parent_a = population[i]\n",
        "        parent_b = population[population_size - i - 1]\n",
        "        child_a, child_b = crossover(parent_a, parent_b)\n",
        "        child_a = mutation(child_a)\n",
        "        child_b = mutation(child_b)\n",
        "        offspring.append(child_a)\n",
        "        offspring.append(child_b)\n",
        "    population = offspring\n",
        "\n",
        "# Find best individual and print result\n",
        "best_individual = max(population, key=lambda individual: calculate_fitness(individual, cities))\n",
        "best_distance = 1 / calculate_fitness(best_individual, cities)\n",
        "print(\"Best path found: {}\".format(best_individual))\n",
        "print(\"Distance of best path: {}\".format(best_distance))"
      ]
    },
    {
      "cell_type": "markdown",
      "metadata": {
        "id": "WueKosb4b-ZD"
      },
      "source": [
        "Explanation:\n",
        "\n",
        "This code implements a genetic algorithm to solve the traveling salesman problem, which involves finding the shortest possible path that visits each city in a given set.\n",
        "\n",
        "The code starts by importing the necessary modules, which are random for generating random numbers and numpy for performing numerical operations on arrays.\n",
        "\n",
        "Then, the code defines a cities array that contains the coordinates of each city, and several genetic algorithm parameters, including the population_size, num_generations, and mutation_rate.\n",
        "\n",
        "Next, the code defines the calculate_fitness function, which takes an individual (i.e., a sequence of city indices) and the cities array as inputs and returns the fitness of the individual. The fitness is defined as the inverse of the total distance traveled by the individual, calculated as the sum of the distances between adjacent cities in the individual.\n",
        "\n",
        "The code also defines the selection function, which takes a population of individuals as input and performs selection by computing the fitness values of each individual, normalizing them to probabilities, and selecting population_size individuals from the population based on their probabilities. The function returns the selected individuals.\n",
        "\n",
        "The crossover function takes two parents and returns two children produced by randomly selecting a crossover point and exchanging the cities beyond that point between the parents.\n",
        "\n",
        "The mutation function takes an individual as input and randomly swaps the positions of two cities in the individual with probability mutation_rate.\n",
        "\n",
        "The main genetic algorithm loop starts by generating an initial population of individuals by randomly shuffling the indices of the cities.\n",
        "\n",
        "Then, for each generation, the selection function is called to select the most fit individuals from the population. The crossover and mutation functions are then applied to the selected individuals to create new offspring, which are added to the offspring list. Finally, the population is updated to be the offspring, and the loop repeats for the next generation.\n",
        "\n",
        "After all generations have been processed, the code finds the best individual (i.e., the individual with the highest fitness) in the final population using the max function with a lambda function that calculates the fitness of each individual. The code then calculates the distance traveled by the best individual and prints the sequence of city indices and the distance."
      ]
    },
    {
      "cell_type": "code",
      "execution_count": 4,
      "metadata": {},
      "outputs": [
        {
          "name": "stdout",
          "output_type": "stream",
          "text": [
            "Best route: ['C', 'B', 'D', 'E', 'A'] \n",
            "Total distance: 11.042019056626884\n"
          ]
        }
      ],
      "source": [
        "import random\n",
        "\n",
        "cities = {'A': (0, 0), 'B': (5, 2), 'C': (6, 3), 'D': (3, 4), 'E': (2, 5)}\n",
        "num_iterations, pop_size = 100, 50\n",
        "\n",
        "dist = lambda c1, c2: ((c1[0] - c2[0])**2 + (c1[1] - c2[1])**2)**0.5\n",
        "route_dist = lambda route: sum(dist(cities[route[i]], cities[route[i+1]]) for i in range(len(route)-1))\n",
        "\n",
        "population = [random.sample(list(cities.keys()), len(cities)) for _ in range(pop_size)]\n",
        "\n",
        "for _ in range(num_iterations):\n",
        "    p1, p2 = random.sample(population, 2)\n",
        "    start, end = sorted(random.sample(range(len(cities)), 2))\n",
        "    child = p1[start:end] + [c for c in p2 if c not in p1[start:end]]\n",
        "    if random.random() < 0.1:\n",
        "        idx1, idx2 = random.sample(range(len(child)), 2)\n",
        "        child[idx1], child[idx2] = child[idx2], child[idx1]\n",
        "    population.remove(max(population, key=route_dist)); population.append(child)\n",
        "\n",
        "best_route = min(population, key=route_dist)\n",
        "print(\"Best route:\", best_route, \"\\nTotal distance:\", route_dist(best_route))"
      ]
    },
    {
      "cell_type": "code",
      "execution_count": 1,
      "metadata": {},
      "outputs": [
        {
          "name": "stdout",
          "output_type": "stream",
          "text": [
            "Best route: ['A', 'E', 'D', 'B', 'C']\n",
            "Total distance: 11.042019056626884\n"
          ]
        }
      ],
      "source": [
        "import random\n",
        "\n",
        "# Function to calculate the Euclidean distance between two points\n",
        "def distance(c1, c2):\n",
        "    return ((c1[0] - c2[0])**2 + (c1[1] - c2[1])**2)**0.5\n",
        "\n",
        "# Function to calculate the total distance of a route\n",
        "def route_distance(route, cities):\n",
        "    return sum(distance(cities[route[i]], cities[route[i + 1]]) for i in range(len(route) - 1))\n",
        "\n",
        "# Function to generate a random population of routes\n",
        "def generate_population(pop_size, cities):\n",
        "    return [random.sample(list(cities.keys()), len(cities)) for _ in range(pop_size)]\n",
        "\n",
        "# Function to perform crossover and mutation to create a child route\n",
        "def crossover_and_mutate(p1, p2, mutation_rate=0.1):\n",
        "    start, end = sorted(random.sample(range(len(p1)), 2))\n",
        "    child = p1[start:end] + [c for c in p2 if c not in p1[start:end]]\n",
        "\n",
        "    # Mutation step: swap two random cities with a small probability\n",
        "    if random.random() < mutation_rate:\n",
        "        idx1, idx2 = random.sample(range(len(child)), 2)\n",
        "        child[idx1], child[idx2] = child[idx2], child[idx1]\n",
        "\n",
        "    return child\n",
        "\n",
        "# Function to evolve the population through selection and crossover\n",
        "def evolve_population(population, cities):\n",
        "    # Select two random parents\n",
        "    p1, p2 = random.sample(population, 2)\n",
        "    # Create a child through crossover and mutation\n",
        "    child = crossover_and_mutate(p1, p2)\n",
        "\n",
        "    # Remove the worst route and add the new child\n",
        "    worst_route = max(population, key=lambda route: route_distance(route, cities))\n",
        "    population.remove(worst_route)\n",
        "    population.append(child)\n",
        "\n",
        "# Main function to run the Genetic Algorithm for a given number of iterations\n",
        "def run_genetic_algorithm(cities, pop_size, num_iterations):\n",
        "    # Generate the initial population\n",
        "    population = generate_population(pop_size, cities)\n",
        "\n",
        "    # Evolve the population for the given number of iterations\n",
        "    for _ in range(num_iterations):\n",
        "        evolve_population(population, cities)\n",
        "\n",
        "    # Find the best route with the shortest distance\n",
        "    best_route = min(population, key=lambda route: route_distance(route, cities))\n",
        "    best_distance = route_distance(best_route, cities)\n",
        "\n",
        "    return best_route, best_distance\n",
        "\n",
        "# Example usage\n",
        "if __name__ == \"__main__\":\n",
        "    cities = {'A': (0, 0), 'B': (5, 2), 'C': (6, 3), 'D': (3, 4), 'E': (2, 5)}\n",
        "    pop_size = 50\n",
        "    num_iterations = 100\n",
        "\n",
        "    best_route, best_distance = run_genetic_algorithm(cities, pop_size, num_iterations)\n",
        "\n",
        "    print(\"Best route:\", best_route)\n",
        "    print(\"Total distance:\", best_distance)"
      ]
    }
  ],
  "metadata": {
    "colab": {
      "provenance": []
    },
    "kernelspec": {
      "display_name": "Python 3",
      "name": "python3"
    },
    "language_info": {
      "codemirror_mode": {
        "name": "ipython",
        "version": 3
      },
      "file_extension": ".py",
      "mimetype": "text/x-python",
      "name": "python",
      "nbconvert_exporter": "python",
      "pygments_lexer": "ipython3",
      "version": "3.11.5"
    }
  },
  "nbformat": 4,
  "nbformat_minor": 0
}
